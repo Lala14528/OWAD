{
 "cells": [
  {
   "cell_type": "markdown",
   "id": "cded59a6",
   "metadata": {},
   "source": [
    "## Intro\n",
    "This code shows an example of using OWAD upon **normal-confidence** anomaly detection models. Here we use a Log Anomaly Detection case with `DeepLog` (aka LSTM) as the anomaly detection model and `BGL` as the log dataset.\n"
   ]
  },
  {
   "cell_type": "code",
   "execution_count": 1,
   "id": "897ed7ac",
   "metadata": {},
   "outputs": [],
   "source": [
    "%load_ext autoreload\n",
    "%autoreload 2\n",
    "## import packages\n",
    "import sys\n",
    "sys.path.append('../admodels/')\n",
    "sys.path.append('../moudles/')\n",
    "sys.path.append('../baselines/')\n",
    "sys.path.append('../')\n",
    "import numpy as np\n",
    "from sklearn.preprocessing import MinMaxScaler\n",
    "from sklearn import metrics\n",
    "import _pickle as pkl\n",
    "import DeepLog\n",
    "from calibrator import Calibrator\n",
    "from shifthunter import ShiftHunter\n",
    "import myutils as utils"
   ]
  },
  {
   "cell_type": "code",
   "execution_count": 2,
   "id": "4fd90f97",
   "metadata": {},
   "outputs": [],
   "source": [
    "# Load control and treatment data\n",
    "con_seq = np.load('data/logad_con.npz')\n",
    "X_ic, X_oc, y_c = con_seq['input'], con_seq['output'], con_seq['label']\n",
    "tre_seq = np.load('data/logad_tre.npz')\n",
    "X_it, X_ot, y_t = tre_seq['input'], tre_seq['output'], tre_seq['label']"
   ]
  },
  {
   "cell_type": "markdown",
   "id": "d50c7e3c",
   "metadata": {},
   "source": [
    "## Prepare AD model and data"
   ]
  },
  {
   "cell_type": "code",
   "execution_count": 3,
   "id": "31208a2f",
   "metadata": {},
   "outputs": [
    {
     "name": "stdout",
     "output_type": "stream",
     "text": [
      "Epoch [1/20], train_loss: 3.1481\n",
      "Epoch [2/20], train_loss: 1.3317\n",
      "Epoch [3/20], train_loss: 1.0705\n",
      "Epoch [4/20], train_loss: 0.8074\n",
      "Epoch [5/20], train_loss: 0.6328\n",
      "Epoch [6/20], train_loss: 0.4127\n",
      "Epoch [7/20], train_loss: 0.3123\n",
      "Epoch [8/20], train_loss: 0.2606\n",
      "Epoch [9/20], train_loss: 0.2238\n",
      "Epoch [10/20], train_loss: 0.2001\n",
      "Epoch [11/20], train_loss: 0.1839\n",
      "Epoch [12/20], train_loss: 0.1724\n",
      "Epoch [13/20], train_loss: 0.1647\n",
      "Epoch [14/20], train_loss: 0.1574\n",
      "Epoch [15/20], train_loss: 0.1522\n",
      "Epoch [16/20], train_loss: 0.1475\n",
      "Epoch [17/20], train_loss: 0.1424\n",
      "Epoch [18/20], train_loss: 0.1395\n",
      "Epoch [19/20], train_loss: 0.1360\n",
      "Epoch [20/20], train_loss: 0.1329\n",
      "Finished Training\n"
     ]
    }
   ],
   "source": [
    "# training DeepLog model\n",
    "utils.set_random_seed()\n",
    "train_num = 100000\n",
    "X_train = {'input':X_ic[y_c==0][:train_num], 'output':X_oc[y_c==0][:train_num]}\n",
    "model = DeepLog.train(X_train)"
   ]
  },
  {
   "cell_type": "code",
   "execution_count": 4,
   "id": "a99e28e4",
   "metadata": {},
   "outputs": [
    {
     "name": "stdout",
     "output_type": "stream",
     "text": [
      "Test in Control set:\n",
      "f1-score: 0.8915540967049614 precision: 0.8858504766683392 recall: 0.8973316391359594\n",
      "Test in Treatment set:\n",
      "f1-score: 0.44641499873321505 precision: 0.296932928884395 recall: 0.8989795918367347\n"
     ]
    }
   ],
   "source": [
    "## test performance at control set and treament set (testing data)\n",
    "pred_con, prob_con = DeepLog.test(model, {'input':X_ic, 'output':X_oc})\n",
    "print('Test in Control set:')\n",
    "print('f1-score:', metrics.f1_score(y_c, pred_con),\n",
    "      'precision:', metrics.precision_score(y_c, pred_con),\n",
    "      'recall:', metrics.recall_score(y_c, pred_con)\n",
    "     )\n",
    "\n",
    "pred_tre, prob_tre = DeepLog.test(model, {'input':X_it, 'output':X_ot})\n",
    "print('Test in Treatment set:')\n",
    "print('f1-score:', metrics.f1_score(y_t, pred_tre), \n",
    "      'precision:', metrics.precision_score(y_t, pred_tre),\n",
    "      'recall:', metrics.recall_score(y_t, pred_tre)\n",
    "     )"
   ]
  },
  {
   "cell_type": "markdown",
   "id": "1227d97f",
   "metadata": {},
   "source": [
    "**(As we can see that, the performance decreases sharply from 0.89 to 0.44)**"
   ]
  },
  {
   "cell_type": "code",
   "execution_count": 6,
   "id": "fdb3eca2",
   "metadata": {},
   "outputs": [],
   "source": [
    "## get validation data of control set and treament set\n",
    "vali_num = 100000\n",
    "X_con, y_con = {'input':X_ic[:vali_num], 'output':X_oc[:vali_num]}, y_c[:vali_num]\n",
    "X_tre, y_tre = {'input':X_it[:vali_num], 'output':X_ot[:vali_num]}, y_t[:vali_num]\n",
    "prob_con = prob_con[:vali_num]\n",
    "prob_tre = prob_tre[:vali_num]"
   ]
  },
  {
   "cell_type": "markdown",
   "id": "b5aa921f",
   "metadata": {},
   "source": [
    "## Let's use OWAD！"
   ]
  },
  {
   "cell_type": "code",
   "execution_count": 7,
   "id": "7a5d626e",
   "metadata": {},
   "outputs": [
    {
     "name": "stdout",
     "output_type": "stream",
     "text": [
      "NOTICE: Initialize OWAD Calibrator Under **Isotonic** Method!\n",
      "NOTICE: uncalibrated Probs is **BENIGN** confidence\n",
      "NOTICE: Initilize OWAD Shift Handler Under **Seq** Mode!\n",
      "Shift! P-value is 0.000999000999000999\n",
      "Visualize Shift:\n"
     ]
    },
    {
     "data": {
      "image/png": "[encoded data removed]",
      "text/plain": [
       "<Figure size 432x288 with 1 Axes>"
      ]
     },
     "metadata": {
      "needs_background": "light"
     },
     "output_type": "display_data"
    }
   ],
   "source": [
    "utils.set_random_seed()\n",
    "\n",
    "## detect shift with OWAD\n",
    "cb = Calibrator(X_con, method='Isotonic')\n",
    "cb.set_calibrator(prob_con, is_P_mal=False)\n",
    "sh = ShiftHunter(prob_con, prob_tre, cb, ad_type='Seq')\n",
    "t = utils.get_params('ShiftDetector')['test_thres']\n",
    "p_value = sh.permu_test()\n",
    "if p_value >= t:\n",
    "    print(\"Non-shift, skip explain and adaptation!\")\n",
    "else:\n",
    "    print('Shift! P-value is', p_value)\n",
    "print(\"Visualize Shift:\")\n",
    "sh.visualize_hists()"
   ]
  },
  {
   "cell_type": "code",
   "execution_count": 8,
   "id": "eb0b5c47",
   "metadata": {},
   "outputs": [
    {
     "name": "stdout",
     "output_type": "stream",
     "text": [
      "step:0 |Loss:16.0000 |Accuracy_Loss:1.0000 |Overhead_Loss:1.0000 |Determinism_Loss:1.0000 |M_c num: 50203 |M_t num: 49834\n",
      "step:10 |Loss:15.6083 |Accuracy_Loss:0.9422 |Overhead_Loss:0.9883 |Determinism_Loss:1.0145 |M_c num: 49646 |M_t num: 49279\n",
      "step:20 |Loss:15.2432 |Accuracy_Loss:0.8893 |Overhead_Loss:0.9771 |Determinism_Loss:1.0253 |M_c num: 49152 |M_t num: 48621\n",
      "step:30 |Loss:14.8909 |Accuracy_Loss:0.8381 |Overhead_Loss:0.9668 |Determinism_Loss:1.0327 |M_c num: 48613 |M_t num: 47924\n",
      "step:40 |Loss:14.5496 |Accuracy_Loss:0.7881 |Overhead_Loss:0.9572 |Determinism_Loss:1.0373 |M_c num: 48264 |M_t num: 47097\n",
      "step:49 |Loss:14.2518 |Accuracy_Loss:0.7441 |Overhead_Loss:0.9492 |Determinism_Loss:1.0391 |M_c num: 47918 |M_t num: 46236\n",
      "get X_c, X_t (len): 100000 100000\n",
      "** Cliping <remain_X_t> ...\n",
      "NOTICE: simulating labelling...\n",
      "Filter 11 anomalies in remain_X_tre\n",
      "Remain X_c, X_t (len): 52078 29989\n",
      "Adapter: Begin Processing ... \n",
      "Estimating Params Weight:0/8207\n",
      "Estimating Params Weight:1000/8207\n",
      "Estimating Params Weight:2000/8207\n",
      "Estimating Params Weight:3000/8207\n",
      "Estimating Params Weight:4000/8207\n",
      "Estimating Params Weight:5000/8207\n",
      "Estimating Params Weight:6000/8207\n",
      "Estimating Params Weight:7000/8207\n",
      "Estimating Params Weight:8000/8207\n",
      "epoch:0 ,step:0 |Distrib_Loss:0.2981 |benign probs: 10.847855\n",
      "epoch:0 ,step:50 |Distrib_Loss:0.2731 |benign probs: 10.621084\n",
      "epoch:1 ,step:0 |Distrib_Loss:0.3026 |benign probs: 10.555974\n",
      "epoch:1 ,step:50 |Distrib_Loss:0.2065 |benign probs: 10.508114\n",
      "epoch:2 ,step:0 |Distrib_Loss:0.2935 |benign probs: 10.401082\n",
      "epoch:2 ,step:50 |Distrib_Loss:0.1899 |benign probs: 10.788612\n",
      "epoch:3 ,step:0 |Distrib_Loss:0.1972 |benign probs: 10.643128\n",
      "epoch:3 ,step:50 |Distrib_Loss:0.1364 |benign probs: 10.849062\n",
      "epoch:4 ,step:0 |Distrib_Loss:0.2605 |benign probs: 10.688631\n",
      "epoch:4 ,step:50 |Distrib_Loss:0.1689 |benign probs: 10.812467\n",
      "epoch:5 ,step:0 |Distrib_Loss:0.1931 |benign probs: 10.821012\n",
      "epoch:5 ,step:50 |Distrib_Loss:0.1629 |benign probs: 10.808041\n",
      "epoch:6 ,step:0 |Distrib_Loss:0.1630 |benign probs: 10.924633\n",
      "epoch:6 ,step:50 |Distrib_Loss:0.1625 |benign probs: 11.03867\n",
      "epoch:7 ,step:0 |Distrib_Loss:0.1659 |benign probs: 10.854668\n",
      "epoch:7 ,step:50 |Distrib_Loss:0.1465 |benign probs: 11.053459\n",
      "epoch:8 ,step:0 |Distrib_Loss:0.0979 |benign probs: 11.119119\n",
      "epoch:8 ,step:50 |Distrib_Loss:0.1360 |benign probs: 11.223259\n",
      "epoch:9 ,step:0 |Distrib_Loss:0.1176 |benign probs: 11.117896\n",
      "epoch:9 ,step:50 |Distrib_Loss:0.1440 |benign probs: 10.975629\n"
     ]
    }
   ],
   "source": [
    "utils.set_random_seed()\n",
    "\n",
    "## explain and adapt to shift with OWAD\n",
    "ohd_bgt = 30000\n",
    "exp_result = sh.explainer(X_tre, y_tre, label_num = ohd_bgt) # , auto_cali_thres=True\n",
    "sh.adapter(model)"
   ]
  },
  {
   "cell_type": "code",
   "execution_count": 9,
   "id": "058387b4",
   "metadata": {},
   "outputs": [
    {
     "name": "stdout",
     "output_type": "stream",
     "text": [
      "After OWAD Adaptation:\n",
      "f1-score: 0.7849954254345837 precision: 0.7114427860696517 recall: 0.8755102040816326\n"
     ]
    }
   ],
   "source": [
    "## Test the performance after OWAD adaptation\n",
    "print('After OWAD Adaptation:')\n",
    "pred_tre, prob_tre = DeepLog.test(sh.model, {'input':X_it, 'output':X_ot})\n",
    "print('f1-score:', metrics.f1_score(y_t, pred_tre),\n",
    "      'precision:', metrics.precision_score(y_t, pred_tre),\n",
    "      'recall:', metrics.recall_score(y_t, pred_tre)\n",
    "     )"
   ]
  },
  {
   "cell_type": "markdown",
   "id": "872dc61a",
   "metadata": {},
   "source": [
    "**(As we can see that, OWAD Adaptation significantly improves the performance of AD models from 0.44 to 0.78 with 30k labels, which is 30% of validation set and 15% of testing set)**"
   ]
  },
  {
   "cell_type": "markdown",
   "id": "5a71159e",
   "metadata": {},
   "source": [
    "### Compared with retraining"
   ]
  },
  {
   "cell_type": "code",
   "execution_count": 20,
   "id": "f59bfcb8",
   "metadata": {},
   "outputs": [
    {
     "name": "stdout",
     "output_type": "stream",
     "text": [
      "Epoch [1/20], train_loss: 2.4513\n",
      "Epoch [2/20], train_loss: 0.7219\n",
      "Epoch [3/20], train_loss: 0.5771\n",
      "Epoch [4/20], train_loss: 0.3821\n",
      "Epoch [5/20], train_loss: 0.2326\n",
      "Epoch [6/20], train_loss: 0.1824\n",
      "Epoch [7/20], train_loss: 0.1577\n",
      "Epoch [8/20], train_loss: 0.1430\n",
      "Epoch [9/20], train_loss: 0.1329\n",
      "Epoch [10/20], train_loss: 0.1260\n",
      "Epoch [11/20], train_loss: 0.1203\n",
      "Epoch [12/20], train_loss: 0.1159\n",
      "Epoch [13/20], train_loss: 0.1124\n",
      "Epoch [14/20], train_loss: 0.1095\n",
      "Epoch [15/20], train_loss: 0.1067\n",
      "Epoch [16/20], train_loss: 0.1041\n",
      "Epoch [17/20], train_loss: 0.1020\n",
      "Epoch [18/20], train_loss: 0.1000\n",
      "Epoch [19/20], train_loss: 0.0982\n",
      "Epoch [20/20], train_loss: 0.0959\n",
      "Finished Training\n",
      "After Retraining:\n",
      "f1-score: 0.44053985230455817 precision: 0.29351883271123175 recall: 0.8826530612244898\n"
     ]
    }
   ],
   "source": [
    "utils.set_random_seed()\n",
    "\n",
    "## retraining with all old samples and `ohd_bgt` new samples \n",
    "X_retrain = {'input': np.concatenate((X_ic[y_c==0][:train_num], X_tre['input'][:ohd_bgt])),\n",
    "             'output': np.concatenate((X_oc[y_c==0][:train_num], X_tre['output'][:ohd_bgt]))}\n",
    "retrain_model = DeepLog.train(X_retrain)\n",
    "\n",
    "## test the performance of retraining model\n",
    "pred_tre, prob_tre = DeepLog.test(retrain_model, {'input':X_it, 'output':X_ot})\n",
    "print('After Retraining:')\n",
    "print('f1-score:', metrics.f1_score(y_t, pred_tre), \n",
    "      'precision:', metrics.precision_score(y_t, pred_tre),\n",
    "      'recall:', metrics.recall_score(y_t, pred_tre)\n",
    "     )"
   ]
  },
  {
   "cell_type": "markdown",
   "id": "6ed1158f",
   "metadata": {},
   "source": [
    "**The result shows that retraining fails to improve the performance in this case.**"
   ]
  }
 ],
 "metadata": {
  "hide_input": false,
  "kernelspec": {
   "display_name": "Python 3 (ipykernel)",
   "language": "python",
   "name": "python3"
  },
  "language_info": {
   "codemirror_mode": {
    "name": "ipython",
    "version": 3
   },
   "file_extension": ".py",
   "mimetype": "text/x-python",
   "name": "python",
   "nbconvert_exporter": "python",
   "pygments_lexer": "ipython3",
   "version": "3.7.11"
  },
  "varInspector": {
   "cols": {
    "lenName": 16,
    "lenType": 16,
    "lenVar": 40
   },
   "kernels_config": {
    "python": {
     "delete_cmd_postfix": "",
     "delete_cmd_prefix": "del ",
     "library": "var_list.py",
     "varRefreshCmd": "print(var_dic_list())"
    },
    "r": {
     "delete_cmd_postfix": ") ",
     "delete_cmd_prefix": "rm(",
     "library": "var_list.r",
     "varRefreshCmd": "cat(var_dic_list()) "
    }
   },
   "types_to_exclude": [
    "module",
    "function",
    "builtin_function_or_method",
    "instance",
    "_Feature"
   ],
   "window_display": false
  }
 },
 "nbformat": 4,
 "nbformat_minor": 5
}
